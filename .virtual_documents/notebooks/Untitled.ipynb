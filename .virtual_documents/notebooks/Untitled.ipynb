import tensorflow as tf
from tensorflow.keras.preprocessing.image import ImageDataGenerator
import os


# Define paths
base_path = '/home/elnaz/ResumeProjects/Skin-Cancer-Detection/data'
train_path = os.path.join(base_path, 'train')
test_path = os.path.join(base_path, 'test')


# Check paths
for path in [train_path, test_path]:
    if not os.path.exists(path):
        print(f"Error: Path {path} does not exist")
    else:
        print(f"Path {path} found")


# Data augmentation and preprocessing
train_datagen = ImageDataGenerator(
    rescale = 1. / 255, # Normalize pixel values to [0,1]
    rotation_range = 20,
    width_shift_range = 0.2,
    height_shift_range = 0.2,
    zoom_range = 0.2,
    horizontal_flip = True,
    fill_mode = 'nearest',
    validation_split = 0.2 # 20% for validation
)


# Load train and validation data
train_generator = train_datagen.flow_from_directory(
    train_path,
    target_size = (224, 224),
    batch_size = 32,
    class_mode = 'binary',
    subset = 'training',
    seed = 42
)

val_generator = train_datagen.flow_from_directory(
    train_path,
    target_size = (224, 224),
    batch_size = 32,
    class_mode = 'binary',
    subset = 'validation',
    seed = 42
)


# Load test data (no augmentation, only normalization)
test_datagen = ImageDataGenerator(rescale = 1. / 255)

test_generator = test_datagen.flow_from_directory(
    test_path,
    target_size = (224, 224),
    batch_size = 32,
    class_mode = 'binary',
    shuffle = False # No shuffling for evaluation
)


print(f"Train samples: {train_generator.samples}")
print(f"Validation samples: {val_generator.samples}")
print(f"Test samples: {test_generator.samples}")
print(f"Class indices: {train_generator.class_indices}")



