import os
import matplotlib.pyplot as plt
from PIL import Image
import numpy as np


# Define paths to datasets

train_benign_path = '/home/elnaz/ResumeProjects/Skin-Cancer-Detection/data/train/benign'
train_malignant_path = '/home/elnaz/ResumeProjects/Skin-Cancer-Detection/data/train/malignant'
test_benign_path = '/home/elnaz/ResumeProjects/Skin-Cancer-Detection/data/test/benign'
test_malignant_path = '/home/elnaz/ResumeProjects/Skin-Cancer-Detection/data/test/malignant'


# Count images in each folder
train_benign_count = len(os.listdir(train_benign_path))
train_malignant_count = len(os.listdir(train_malignant_path))
test_benign_count = len(os.listdir(test_benign_path))
test_malignant_count = len(os.listdir(test_malignant_path))

print(f"Train - Benign: {train_benign_count} images")
print(f"Train - Malignant: {train_malignant_count} images")
print(f"Test - Benign: {test_benign_count} images")
print (f"Test - Malignant: {test_malignant_count}")


# Display sample images
def display_sample_images(path, title, num_samples=3):
    plt.figure(fig_size=(15, 5))
    images = os.listdir(path)[:num_samples]
    for i, img_name in enumerate(images):
        img_path = os.path.join(path, img_name)
        img = Image.open(img_path)
        plt.subplot(1, num_samples, i+1)
        plt.imshow(img)
        plt.title(f"{title} - {img_name}")
        plt.axis('off')
        print(f"Image {img_name} size: {img.size}")


#Display samples from train benign and malignant
display_sample_images(train_benign_path, "Train Benign")
display_sample_images(train_malignant_path, "Train Malignant")



