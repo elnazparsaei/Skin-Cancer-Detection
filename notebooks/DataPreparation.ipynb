{
 "cells": [
  {
   "cell_type": "code",
   "execution_count": 1,
   "id": "ceca8825-533d-4175-ba03-2efd2f8ff46c",
   "metadata": {},
   "outputs": [],
   "source": [
    "import tensorflow as tf\n",
    "from tensorflow.keras.preprocessing.image import ImageDataGenerator\n",
    "import os"
   ]
  },
  {
   "cell_type": "code",
   "execution_count": 5,
   "id": "6f921d5d-8448-4b6e-bcbd-6affc7dcbf0c",
   "metadata": {},
   "outputs": [],
   "source": [
    "# Define paths\n",
    "base_path = '/home/elnaz/ResumeProjects/Skin-Cancer-Detection/data'\n",
    "train_path = os.path.join(base_path, 'train')\n",
    "test_path = os.path.join(base_path, 'test')"
   ]
  },
  {
   "cell_type": "code",
   "execution_count": 7,
   "id": "5a1846a2-3965-49c5-b8ce-2d51fccf0b10",
   "metadata": {},
   "outputs": [
    {
     "name": "stdout",
     "output_type": "stream",
     "text": [
      "Path /home/elnaz/ResumeProjects/Skin-Cancer-Detection/data/train found\n",
      "Path /home/elnaz/ResumeProjects/Skin-Cancer-Detection/data/test found\n"
     ]
    }
   ],
   "source": [
    "# Check paths\n",
    "for path in [train_path, test_path]:\n",
    "    if not os.path.exists(path):\n",
    "        print(f\"Error: Path {path} does not exist\")\n",
    "    else:\n",
    "        print(f\"Path {path} found\")"
   ]
  },
  {
   "cell_type": "code",
   "execution_count": 9,
   "id": "5ed305ef-aa70-4c30-ae14-855c42ecd017",
   "metadata": {},
   "outputs": [],
   "source": [
    "# Data augmentation and preprocessing\n",
    "train_datagen = ImageDataGenerator(\n",
    "    rescale = 1. / 255, # Normalize pixel values to [0,1]\n",
    "    rotation_range = 20,\n",
    "    width_shift_range = 0.2,\n",
    "    height_shift_range = 0.2,\n",
    "    zoom_range = 0.2,\n",
    "    horizontal_flip = True,\n",
    "    fill_mode = 'nearest',\n",
    "    validation_split = 0.2 # 20% for validation\n",
    ")"
   ]
  },
  {
   "cell_type": "code",
   "execution_count": 11,
   "id": "d63bdb0f-89c5-46a4-aebf-ece130b53010",
   "metadata": {},
   "outputs": [
    {
     "name": "stdout",
     "output_type": "stream",
     "text": [
      "Found 2110 images belonging to 2 classes.\n",
      "Found 527 images belonging to 2 classes.\n"
     ]
    }
   ],
   "source": [
    "# Load train and validation data\n",
    "train_generator = train_datagen.flow_from_directory(\n",
    "    train_path,\n",
    "    target_size = (224, 224),\n",
    "    batch_size = 32,\n",
    "    class_mode = 'binary',\n",
    "    subset = 'training',\n",
    "    seed = 42\n",
    ")\n",
    "\n",
    "val_generator = train_datagen.flow_from_directory(\n",
    "    train_path,\n",
    "    target_size = (224, 224),\n",
    "    batch_size = 32,\n",
    "    class_mode = 'binary',\n",
    "    subset = 'validation',\n",
    "    seed = 42\n",
    ")"
   ]
  },
  {
   "cell_type": "code",
   "execution_count": 15,
   "id": "c9bd895b-01bf-45db-82c4-8352db4e1a25",
   "metadata": {},
   "outputs": [
    {
     "name": "stdout",
     "output_type": "stream",
     "text": [
      "Found 660 images belonging to 2 classes.\n"
     ]
    }
   ],
   "source": [
    "# Load test data (no augmentation, only normalization)\n",
    "test_datagen = ImageDataGenerator(rescale = 1. / 255)\n",
    "\n",
    "test_generator = test_datagen.flow_from_directory(\n",
    "    test_path,\n",
    "    target_size = (224, 224),\n",
    "    batch_size = 32,\n",
    "    class_mode = 'binary',\n",
    "    shuffle = False # No shuffling for evaluation\n",
    ")"
   ]
  },
  {
   "cell_type": "code",
   "execution_count": 19,
   "id": "27ecbd71-e665-4dcc-8ae4-f1def5399554",
   "metadata": {},
   "outputs": [
    {
     "name": "stdout",
     "output_type": "stream",
     "text": [
      "Train samples: 2110\n",
      "Validation samples: 527\n",
      "Test samples: 660\n",
      "Class indices: {'benign': 0, 'malignant': 1}\n"
     ]
    }
   ],
   "source": [
    "print(f\"Train samples: {train_generator.samples}\")\n",
    "print(f\"Validation samples: {val_generator.samples}\")\n",
    "print(f\"Test samples: {test_generator.samples}\")\n",
    "print(f\"Class indices: {train_generator.class_indices}\")"
   ]
  },
  {
   "cell_type": "code",
   "execution_count": null,
   "id": "de7348fa-94c3-4d6c-b541-3427df5443d5",
   "metadata": {},
   "outputs": [],
   "source": []
  }
 ],
 "metadata": {
  "kernelspec": {
   "display_name": "Python (tf-gpu)",
   "language": "python",
   "name": "tf-gpu"
  },
  "language_info": {
   "codemirror_mode": {
    "name": "ipython",
    "version": 3
   },
   "file_extension": ".py",
   "mimetype": "text/x-python",
   "name": "python",
   "nbconvert_exporter": "python",
   "pygments_lexer": "ipython3",
   "version": "3.12.2"
  }
 },
 "nbformat": 4,
 "nbformat_minor": 5
}
